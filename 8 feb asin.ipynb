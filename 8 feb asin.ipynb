{
 "cells": [
  {
   "cell_type": "code",
   "execution_count": 1,
   "id": "d0dfddbd-adbe-401d-8921-97ae80e23d28",
   "metadata": {},
   "outputs": [],
   "source": [
    "###Q1)\n",
    "from abc import ABC, abstractmethod\n",
    "\n",
    "class BankAccount(ABC):\n",
    "    def __init__(self, account_number):\n",
    "        self.account_number = account_number\n",
    "        self.balance = 0.0\n",
    "    \n",
    "    def get_account_number(self):\n",
    "        return self.account_number\n",
    "    \n",
    "    def get_balance(self):\n",
    "        return self.balance\n",
    "    \n",
    "    def deposit(self, amount):\n",
    "        self.balance += amount\n",
    "    \n",
    "    @abstractmethod\n",
    "    def withdraw(self, amount):\n",
    "        pass\n",
    "\n",
    "class SavingsAccount(BankAccount):\n",
    "    def __init__(self, account_number, interest_rate):\n",
    "        super().__init__(account_number)\n",
    "        self.interest_rate = interest_rate\n",
    "    \n",
    "    def withdraw(self, amount):\n",
    "        pass\n",
    "\n",
    "class CheckingAccount(BankAccount):\n",
    "    def __init__(self, account_number, transaction_limit):\n",
    "        super().__init__(account_number)\n",
    "        self.transaction_limit = transaction_limit\n",
    "    \n",
    "    def withdraw(self, amount):\n",
    "        pass\n"
   ]
  },
  {
   "cell_type": "code",
   "execution_count": 2,
   "id": "da118609-1f77-4149-8639-ea0baf0a58c2",
   "metadata": {},
   "outputs": [],
   "source": [
    "###Q2)\n",
    "class Car:\n",
    "    def __init__(self, make, model, year):\n",
    "        self.make = make\n",
    "        self.model = model\n",
    "        self.year = year\n",
    "        self.__mileage = 0 \n",
    "    \n",
    "    def get_make(self):\n",
    "        return self.make\n",
    "    \n",
    "    def get_model(self):\n",
    "        return self.model\n",
    "    \n",
    "    def get_year(self):\n",
    "        return self.year\n",
    "    \n",
    "    def get_mileage(self):\n",
    "        return self.__mileage\n",
    "    \n",
    "    def set_mileage(self, mileage):\n",
    "        if mileage >= 0:\n",
    "            self.__mileage = mileage\n",
    "\n",
    "    def drive(self, miles):\n",
    "        self.__mileage += miles\n"
   ]
  },
  {
   "cell_type": "raw",
   "id": "ad2f499d-d9cd-4192-b851-b7ec27784943",
   "metadata": {},
   "source": [
    "###Q3)\n",
    "\n",
    "The abc module in Python stands for \"Abstract Base Classes.\" It provides mechanisms for defining abstract base classes (ABCs) in \n",
    "Python."
   ]
  },
  {
   "cell_type": "raw",
   "id": "94415e6d-035b-4b95-8af1-9f7289fb4593",
   "metadata": {},
   "source": [
    "###Q4)\n",
    "Encapsulation,Access Modifiers,Protected,Getters and Setters,\n",
    "Abstraction,\n"
   ]
  },
  {
   "cell_type": "raw",
   "id": "b7be7095-d725-4075-81a5-29a56468bcaa",
   "metadata": {},
   "source": [
    "###Q5)\n",
    "from abc import ABC, abstractmethod\n",
    "\n",
    "class MyAbstractClass(ABC):\n",
    "    @abstractmethod\n",
    "    def my_method(self):\n",
    "        pass\n",
    "\n",
    "my_instance = MyAbstractClass() \n"
   ]
  },
  {
   "cell_type": "raw",
   "id": "0c4c11fe-9b33-4b36-a786-5d0aeb2dd5cc",
   "metadata": {},
   "source": [
    "In this example, the MyAbstractClass is defined as an abstract class using the ABC class as its base class. It includes an abstract method my_method(). When attempting to create an instance of MyAbstractClass using my_instance = MyAbstractClass(), a TypeError will be raised, indicating that the abstract class cannot be instantiated.\n",
    "\n",
    "Abstract classes are meant to be inherited from and serve as a basis for creating concrete classes that provide implementations for the abstract methods. Therefore, you need to create instances of concrete subclasses that inherit from the abstract class, implementing the required abstract methods, in order to work with objects in your code."
   ]
  }
 ],
 "metadata": {
  "kernelspec": {
   "display_name": "Python 3 (ipykernel)",
   "language": "python",
   "name": "python3"
  },
  "language_info": {
   "codemirror_mode": {
    "name": "ipython",
    "version": 3
   },
   "file_extension": ".py",
   "mimetype": "text/x-python",
   "name": "python",
   "nbconvert_exporter": "python",
   "pygments_lexer": "ipython3",
   "version": "3.10.8"
  }
 },
 "nbformat": 4,
 "nbformat_minor": 5
}
